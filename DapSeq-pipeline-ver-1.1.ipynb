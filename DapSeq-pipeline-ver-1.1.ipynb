{
 "cells": [
  {
   "cell_type": "markdown",
   "metadata": {},
   "source": [
    "# Transcription Factor DNA binding assay data analysis pipeline \n",
    "\n",
    "### Version: 1.1 (1/19/2018)\n",
    "\n",
    "##### Niu Du (dniu [at] jcvi.org)\n",
    "##### J. Craig Venter Institute (JCVI)\n",
    "##### La Jolla, CA USA"
   ]
  },
  {
   "cell_type": "markdown",
   "metadata": {},
   "source": [
    "#### require installation of following tools\n",
    "* fastqc\n",
    "* multiqc\n",
    "* GEM - http://groups.csail.mit.edu/cgs/gem/\n",
    "* MACS2 - https://github.com/taoliu/MACS\n",
    "* bwa\n",
    "* Samtools\n",
    "* Deeptools - https://deeptools.readthedocs.io/en/develop/\n",
    "* meme suite - http://meme-suite.org/"
   ]
  },
  {
   "cell_type": "code",
   "execution_count": 7,
   "metadata": {},
   "outputs": [],
   "source": [
    "import pandas as pd\n",
    "import numpy as np\n",
    "import matplotlib.pyplot as plt\n",
    "from Bio import SeqIO\n",
    "import re, os\n",
    "from tqdm import tqdm\n",
    "import itertools\n",
    "from matplotlib_venn import venn3\n",
    "from matplotlib.offsetbox import (TextArea, DrawingArea, OffsetImage,AnnotationBbox)\n",
    "from matplotlib.cbook import get_sample_data\n",
    "import matplotlib.image as mpimg\n",
    "\n",
    "#import customed function\n",
    "from Dapseq_functions import Tandem_filter\n",
    "\n",
   ]
  },
  {
   "cell_type": "code",
   "execution_count": 2,
   "metadata": {},
   "outputs": [],
   "source": [
    "#0 Init varibles - edit here\n",
    "os.environ['project_ID'] = './Project_bZIP'\n",
    "os.environ['control'] = 'Halovector_S35_L002_R1_001'\n",
    "\n",
    "# Number of threads to use if possible\n",
    "THREADS = 8 \n",
    "os.environ['THREADS'] = THREADS\n",
    "\n",
    "os.environ['path'] = './'\n",
    "os.environ['file_path'] = './'+os.environ['project_ID']\n",
    "os.environ['gempath'] = 'PATH-to-installed-GEM' #java support required \n"
   ]
  },
  {
   "cell_type": "code",
   "execution_count": 31,
   "metadata": {},
   "outputs": [],
   "source": [
    "#0.1 Create index for reference genome - Only need to do this once if not done yet\n",
    "!bwa index -a bwtsw YOUR-REFERENCE-GENOME.fa\n"
   ]
  },
  {
   "cell_type": "code",
   "execution_count": 291,
   "metadata": {},
   "outputs": [],
   "source": [
    "#0.2 Create index for reference genome and mask transposon regions\n",
    "!convert2bed -i gff -o bed <MASK-REFERENCE.gff> MASK-REFERENCE.bed\n",
    "!bedtools maskfasta -fi YOUR-REFERENCE-GENOME.fa -bed MASK-REFERENCE.bed -fo MASK-REFERENCE.fa\n",
    "## Also need to modify genome reference path in step 7.2 and 9 depending on the purpose of use"
   ]
  },
  {
   "cell_type": "code",
   "execution_count": null,
   "metadata": {},
   "outputs": [],
   "source": [
    "#1 Trim raw fastq files \n",
    "File_list = os.listdir(os.environ['project_ID']+'/')\n",
    "!mkdir -p $project_ID/Trimmed_output\n",
    "for file in tqdm(File_list):\n",
    "    if file.endswith(\".gz\"):\n",
    "        os.environ['input_name'] = os.path.join(os.environ['project_ID'], file)\n",
    "        os.environ['output_name'] = os.path.join(os.environ['project_ID']+\"/Trimmed_output\", file)\n",
    "        !java -jar /home/jiyindna/Desktop/Dubiosys/Genetools/Trimmomatic-0.36/trimmomatic-0.36.jar  \\\n",
    "        SE -phred33 $input_name $output_name \\\n",
    "        ILLUMINACLIP:TruSeq3-SE:2:30:10 LEADING:3 TRAILING:3 SLIDINGWINDOW:4:15 MINLEN:36 "
   ]
  },
  {
   "cell_type": "code",
   "execution_count": 3,
   "metadata": {},
   "outputs": [],
   "source": [
    "#1.1 Getting sample names for downstream processes\n",
    "File_list = os.listdir(os.environ['project_ID']+\"/Trimmed_output/\")\n",
    "Sample_list = [item.split('.')[0] for item in File_list if item.endswith(\".gz\")]"
   ]
  },
  {
   "cell_type": "code",
   "execution_count": 4,
   "metadata": {},
   "outputs": [],
   "source": [
    "#1.2 In this step (1.2) and the following step (1.3), you can manualy delete some of the samples that you do not wish to analyse\n",
    "with open(os.environ['project_ID']+\"/Trimmed_output/filelist.txt\",\"w\") as f:\n",
    "    for item in Sample_list:\n",
    "        #if item.endswith(\".gz\"):\n",
    "        f.write(\"%s\\n\" % item)"
   ]
  },
  {
   "cell_type": "code",
   "execution_count": 5,
   "metadata": {},
   "outputs": [
    {
     "name": "stderr",
     "output_type": "stream",
     "text": [
      "2it [00:00, 1933.75it/s]\n"
     ]
    }
   ],
   "source": [
    "#1.3 Edit your file then run this step \n",
    "with open(os.environ['project_ID']+\"/Trimmed_output/filelist.txt\",\"r\") as f:\n",
    "        Sub_sample_list = [item.split('\\n')[0] for item in tqdm(f)]"
   ]
  },
  {
   "cell_type": "code",
   "execution_count": null,
   "metadata": {},
   "outputs": [],
   "source": [
    "#2 QC the trimmmed files\n",
    "!mkdir -p ./$project_ID/Trimmed_output/Fastqc\n",
    "for item in File_list:\n",
    "    os.environ['item'] = item\n",
    "    if item.endswith(\".gz\"):\n",
    "        !fastqc ./$project_ID/Trimmed_output/$item \\\n",
    "        --outdir=./$project_ID/Trimmed_output/Fastqc/"
   ]
  },
  {
   "cell_type": "code",
   "execution_count": null,
   "metadata": {},
   "outputs": [],
   "source": [
    "# 2.1 combine all the fastqc report and merge into one multiqc report\n",
    "!multiqc ./$project_ID/Trimmed_output/Fastqc \n",
    "!zip -r $project_ID.zip multiqc_report.html ./multiqc_data\n",
    "!rm -r ./multiqc_data\n",
    "!rm multiqc_report.html"
   ]
  },
  {
   "cell_type": "code",
   "execution_count": null,
   "metadata": {},
   "outputs": [],
   "source": [
    "#3 Seq alignment and write sam files\n",
    "# https://arxiv.org/abs/1303.3997\n",
    "\n",
    "#Important parameters for tuning\n",
    "# -k Minimum seed length. Matches shorter than INT will be missed.\n",
    "# -B Mismatch penalty. The sequence error rate is approximately: {.75 * exp[-log(4) * B/A]}\n",
    "# -O Gap open penalty.[6]\n",
    "\n",
    "!mkdir -p $file_path/Sam_File\n",
    "for item in tqdm(Sub_sample_list):\n",
    "    os.environ['sample_ID'] = item   \n",
    "    # Note bwa mem does not take masked genome\n",
    "    !bwa mem -t $THREADS -k 60 -B 7 -O 6 -v 0 $path/Genome_ref/PT_Chr_only.fa \\\n",
    "        $file_path/Trimmed_output_john/$sample_ID.fastq.gz > $file_path/Sam_File/$sample_ID.sam\n",
    "    \n",
    "    "
   ]
  },
  {
   "cell_type": "code",
   "execution_count": null,
   "metadata": {},
   "outputs": [],
   "source": [
    "#4 filter out unmapped reads and sort mapped reads\n",
    "!mkdir -p $file_path/Sam_sorted\n",
    "\n",
    "# reuse functions in cmd_path created by John\n",
    "\n",
    "for item in tqdm(Sub_sample_list):\n",
    "    os.environ['sample_ID'] = item\n",
    "    !samtools view -@ $THREADS -h -F 4 -q 30 -u -S $file_path/Sam_File/$sample_ID.sam \\\n",
    "    | samtools sort -@ $THREADS - $file_path/Sam_sorted/$sample_ID._temp\n",
    "    \n",
    "    !samtools rmdup -s $file_path/Sam_sorted/$sample_ID._temp.bam $file_path/Sam_sorted/$sample_ID._mapped_sorted.bam \n",
    "    \n",
    "    !samtools index $file_path/Sam_sorted/$sample_ID._mapped_sorted.bam "
   ]
  },
  {
   "cell_type": "code",
   "execution_count": null,
   "metadata": {},
   "outputs": [],
   "source": [
    "#4.1 Vis singals using all mapped reads\n",
    "!mkdir -p $file_path/bigWig\n",
    "for item in tqdm(Sub_sample_list):\n",
    "    os.environ['sample_ID'] = item\n",
    "    \n",
    "    !bamCoverage -b $file_path/Sam_sorted/$sample_ID._mapped_sorted.bam\\\n",
    "    --normalizeUsing BPM \\\n",
    "    -p $THREADS --extendReads 300 \\\n",
    "    -o $file_path/bigWig/$sample_ID.bw\n"
   ]
  },
  {
   "cell_type": "code",
   "execution_count": null,
   "metadata": {},
   "outputs": [],
   "source": [
    "#4.2 Compare bam files and target peak regions\n",
    "for item in tqdm(Sub_sample_list):\n",
    "    if os.environ['control'] not in item:\n",
    "        os.environ['sample_ID'] = item\n",
    "        !bamCompare  -b1 $file_path/Sam_sorted/$sample_ID._mapped_sorted.bam \\\n",
    "        -b2 $file_path/Sam_sorted/$control._mapped_sorted.bam \\\n",
    "        -o $file_path/bigWig/$sample_ID.peaks.bw \\\n",
    "        -p $THREADS --binSize 200 --operation ratio --scaleFactorsMethod SES -n 1000"
   ]
  },
  {
   "cell_type": "code",
   "execution_count": null,
   "metadata": {},
   "outputs": [],
   "source": [
    "#5 MACS2 for peak calling\n",
    "#-B store all details\n",
    "# -q/--qvalue The qvalue (minimum FDR) cutoff to call significant regions.\n",
    "'''Default is 0.05. For broad marks, you can try 0.01 as cutoff. \n",
    "Q-values are calculated from p-values using Benjamini-Hochberg procedure.'''\n",
    "\n",
    "for item in tqdm(Sub_sample_list):\n",
    "    if os.environ['control'] not in item:\n",
    "        os.environ['sample_ID'] = item\n",
    "        !macs2 callpeak -t $file_path/Sam_sorted/$sample_ID._mapped_sorted.bam \\\n",
    "        -c $file_path/Sam_sorted/$control._mapped_sorted.bam \\\n",
    "        -f BAM --outdir $file_path/MACS -g 1.6e7 -n $sample_ID -B -q 0.01 -m 2 50"
   ]
  },
  {
   "cell_type": "code",
   "execution_count": null,
   "metadata": {},
   "outputs": [],
   "source": [
    "#6 GEM tool for peak calling and motif model creation - use BAM file\n",
    "# force q value to be 0.001, q = 3, 0.01, q =2\n",
    "# Only to use GPS data here\n",
    "\n",
    "# The p-value of the motif occurence. \n",
    "'''The p-value is the probability of a random sequence of the same \n",
    "length as the motif matching that position of the sequence with a \n",
    "score at least as good.'''\n",
    "\n",
    "# The q-vlavlue of the motif occurence. \n",
    "'''The q-value is the estimated false discovery rate if the occurrence \n",
    "is accepted as significant.''' \n",
    "\n",
    "#The width (bp) to smooth the read distribution. \n",
    "'''If it is set to -1, there will be no smoothing (default=30). \n",
    "For ChIP-exo, use a smaller number (say 3 or 5) to achieve higher spatial accuracy.'''\n",
    "\n",
    "# Fold (IP/Control) cutoff to filter predicted events (default=3)\n",
    "# Depending on the sequencing depth, the sample read\n",
    "\n",
    "# Proc. Natl Acad. Sci. USA (2003) 100:9440–9445\n",
    "!rm -r $file_path/GEM_BED\n",
    "!mkdir $file_path/GEM_BED\n",
    "for item in tqdm(Sub_sample_list):\n",
    "    if os.environ['control'] not in item:\n",
    "        os.environ['sample_ID'] = item\n",
    "        !java -jar -Xmx16G $gempath/gem.jar --t 8 \\\n",
    "        --f BAM \\\n",
    "        --d $gempath/Read_Distribution_default.txt \\\n",
    "        --g $path/Genome_ref/PT_genome_size.txt \\\n",
    "        --genome $path/Genome_ref/PT_Chr \\\n",
    "        --expt $file_path/Sam_sorted/$sample_ID._mapped_sorted.bam \\\n",
    "        --ctrl $file_path/Sam_sorted/$control._mapped_sorted.bam \\\n",
    "        --outBED \\\n",
    "        --out $file_path/GEM_BED/$sample_ID \\\n",
    "        --k_min 6 --kmax 20 --k_seqs 600 --k_neg_dinu_shuffle\n"
   ]
  },
  {
   "cell_type": "code",
   "execution_count": null,
   "metadata": {},
   "outputs": [],
   "source": [
    "#7 Combining peak regions from MACS2 and GEM\n",
    "\n",
    "# Set lower limit for MACS2 output\n",
    "min_score = 1\n",
    "window_size = 200\n",
    "!mkdir -p $file_path/Combined_BED\n",
    "for item in tqdm(Sub_sample_list):\n",
    "    if os.environ['control'] not in item:\n",
    "        os.environ['sample_ID'] = item\n",
    "        # Read in bed files from MACS2 output\n",
    "        try:\n",
    "            df_bed = pd.read_table(os.environ['file_path']+'/MACS/'+item+'_summits.bed',header = None)\n",
    "            chrs = list(df_bed[df_bed[4]>min_score][0])\n",
    "            peaks = list(df_bed[df_bed[4]>min_score][1])\n",
    "            names = ['MACS_'+str(ix) for ix in range(len(df_bed[df_bed[4]>min_score]))]\n",
    "            scores = list(df_bed[df_bed[4]>min_score][4])\n",
    "\n",
    "        # Read in location files from GEM output and add to the list\n",
    "\n",
    "            df_GEM = pd.read_table(os.environ['file_path']+'/GEM_BED/'+item+'/'+item+'.GPS_events.txt')\n",
    "            chrs = chrs + ['chr'+pos.split(':')[0] for pos in df_GEM[df_GEM['Fold']>min_score].Position]\n",
    "            peaks = peaks + [int(pos.split(':')[1]) for pos in df_GEM[df_GEM['Fold']>min_score].Position]\n",
    "            names = names + ['GEM_'+str(ix) for ix in range(len(df_GEM[df_GEM['Fold']>min_score]))]\n",
    "            scores = scores + list(df_GEM[df_GEM['Fold']>min_score].Fold)   \n",
    "            \n",
    "            with open(os.environ['file_path']+'/Combined_BED/'+item+'.combined.bed','w') as handle:\n",
    "                for c,p,n,s in zip(chrs,peaks,names,scores):\n",
    "                    handle.write(c+'\\t'+str(p-int(window_size/2))+'\\t'+str(p+int(window_size/2))+'\\t'+n+'\\t'+str(s)+'\\n')\n",
    "\n",
    "        except:\n",
    "            continue"
   ]
  },
  {
   "cell_type": "code",
   "execution_count": null,
   "metadata": {},
   "outputs": [],
   "source": [
    "#7.1 Generate bed files based on the output from GEM and MACS2, and compare the intercets \n",
    "min_score = 1\n",
    "window_size = 200\n",
    "\n",
    "# Get all valid files from previous step\n",
    "Sub_sample_list = [name.split('.')[0] for name in os.listdir(os.environ['project_ID']+\"/Combined_BED/\") if name.endswith('bed')]\n",
    "\n",
    "!mkdir -p $file_path/compare_bed\n",
    "for item in tqdm(Sub_sample_list):\n",
    "    if os.environ['control'] not in item:\n",
    "        os.environ['sample_ID'] = item\n",
    "        \n",
    "        df_bed = pd.read_table(os.environ['file_path']+'/MACS/'+item+'_summits.bed',header = None)\n",
    "        chrs = list(df_bed[df_bed[4]>min_score][0])\n",
    "        peaks = list(df_bed[df_bed[4]>min_score][1])\n",
    "        names = ['MACS_'+str(ix) for ix in range(len(df_bed[df_bed[4]>min_score]))]\n",
    "        scores = list(df_bed[df_bed[4]>min_score][4])\n",
    "        \n",
    "        with open(os.environ['file_path']+'/compare_bed/'+item+'.MACS.bed','w') as handle:\n",
    "            for c,p,n,s in zip(chrs,peaks,names,scores):\n",
    "                handle.write(c+'\\t'+str(p-int(window_size/2))+'\\t'+str(p+int(window_size/2))+'\\t'+n+'\\t'+str(s)+'\\n')\n",
    "        \n",
    "        df_GEM = pd.read_table(os.environ['file_path']+'/GEM_BED/'+item+'/'+item+'.GEM_events.txt')\n",
    "        chrs = ['chr'+pos.split(':')[0] for pos in df_GEM[df_GEM['Fold']>min_score].Position]\n",
    "        peaks = [int(pos.split(':')[1]) for pos in df_GEM[df_GEM['Fold']>min_score].Position]\n",
    "        names = ['GEM_'+str(ix) for ix in range(len(df_GEM[df_GEM['Fold']>min_score]))]\n",
    "        scores = list(df_GEM[df_GEM['Fold']>min_score].Fold)\n",
    "        \n",
    "        with open(os.environ['file_path']+'/compare_bed/'+item+'.GEM.bed','w') as handle:\n",
    "            for c,p,n,s in zip(chrs,peaks,names,scores):\n",
    "                handle.write(c+'\\t'+str(p-int(window_size/2))+'\\t'+str(p+int(window_size/2))+'\\t'+n+'\\t'+str(s)+'\\n')\n",
    "    \n",
    "        \n",
    "        !bedtools intersect -wo -a $file_path/compare_bed/$sample_ID.MACS.bed -b $file_path/compare_bed/$sample_ID.GEM.bed > $file_path/compare_bed/$sample_ID.compare.bed "
   ]
  },
  {
   "cell_type": "code",
   "execution_count": null,
   "metadata": {},
   "outputs": [],
   "source": [
    "#7.2 Generate fasta files from bed files and remove duplicated sequences\n",
    "!mkdir -p $file_path/fasta\n",
    "for item in tqdm(Sub_sample_list):\n",
    "    if os.environ['control'] not in item:\n",
    "        os.environ['sample_ID'] = item\n",
    "        os.environ['fasta_file'] = os.environ['file_path']+'/fasta/'+os.environ['sample_ID']+'.fasta'\n",
    "        !bedtools getfasta -fo $fasta_file -fi $path/Genome_ref/PT_Chr_masked.fa \\\n",
    "        -bed $file_path/Combined_BED/$sample_ID.combined.bed\n",
    "        \n",
    "        key_list = []\n",
    "        dict_fasta = {}\n",
    "        with open(os.environ['fasta_file'],'r') as handle:\n",
    "            with open(os.environ['fasta_file']+'.nodup','w') as output_handle:\n",
    "                for rec in SeqIO.parse(handle,'fasta'):\n",
    "                    if rec.name not in key_list:\n",
    "                        key_list.append(rec.name)\n",
    "                        output_handle.write('>'+rec.name+'\\n'+str(rec.seq)+'\\n')"
   ]
  },
  {
   "cell_type": "code",
   "execution_count": null,
   "metadata": {},
   "outputs": [],
   "source": [
    "#7.3 Filter out tandem sequences \n",
    "\n",
    "# P of 6-mer show up in n base pair\n",
    "# m time n/(4^6)^m - 1 time 0.12 -2 times 0.3e-3 -3 times 7.3e-9\n",
    "for item in Sub_sample_list:\n",
    "    if os.environ['control'] not in item:\n",
    "        os.environ['sample_ID'] = item\n",
    "        print(item)\n",
    "        fasta_file = os.environ['file_path']+'/fasta/'+os.environ['sample_ID']+'.fasta.nodup'\n",
    "        Tandem_filter(fasta_file,k = 6,k_max = 4)    "
   ]
  },
  {
   "cell_type": "code",
   "execution_count": null,
   "metadata": {},
   "outputs": [],
   "source": [
    "#8 Use meme suite to build motif model\n",
    "\n",
    "'''-objfun ce - This objective function scores motifs based on their enrichment in the central regions of the primary sequences, which must all be of same the length. (See option -cefrac, below.) \n",
    "The width and number of sites of each motif are determined using the binomial test. '''\n",
    "# -mod anr/oops/zoops\n",
    "# -ws The gap extension cost for creating the alignments used to trim the motif.\n",
    "\n",
    "for item in tqdm(Sub_sample_list):\n",
    "    if os.environ['control'] not in item:\n",
    "        os.environ['sample_ID'] = item\n",
    "        !meme $file_path/fasta/$sample_ID.fasta.nodup \\\n",
    "        -nmotifs 1 -minw 4 -maxw 12 -dna -mod oops -nostatus -p $THREADS\\\n",
    "        -oc $file_path/GEM_BED/$sample_ID-meme"
   ]
  },
  {
   "cell_type": "code",
   "execution_count": 52,
   "metadata": {},
   "outputs": [
    {
     "name": "stderr",
     "output_type": "stream",
     "text": [
      "100%|██████████| 2/2 [00:23<00:00, 11.60s/it]\n"
     ]
    }
   ],
   "source": [
    "#9 Locate motif loci in the genome\n",
    "for item in tqdm(Sub_sample_list):\n",
    "    if os.environ['control'] not in item:\n",
    "        os.environ['sample_ID'] = item\n",
    "        !fimo -verbosity 1 --thresh 1e-5\\\n",
    "        -oc $file_path/GEM_BED/$sample_ID-fimo/ \\\n",
    "        $file_path/GEM_BED/$sample_ID-meme/meme.txt \\\n",
    "        $path/../Genome_ref/PT_Chr_only.fa"
   ]
  },
  {
   "cell_type": "code",
   "execution_count": 53,
   "metadata": {},
   "outputs": [
    {
     "name": "stderr",
     "output_type": "stream",
     "text": [
      "100%|██████████| 2/2 [00:00<00:00, 15.46it/s]\n"
     ]
    }
   ],
   "source": [
    "#9.1 Convert gff to bed\n",
    "for item in tqdm(Sub_sample_list):\n",
    "    if os.environ['control'] not in item:\n",
    "        os.environ['sample_ID'] = item\n",
    "        !convert2bed -i gff -o bed < $file_path/GEM_BED/$sample_ID-fimo/fimo.gff > $file_path/GEM_BED/$sample_ID-fimo/fimo.bed "
   ]
  },
  {
   "cell_type": "code",
   "execution_count": 54,
   "metadata": {},
   "outputs": [
    {
     "name": "stderr",
     "output_type": "stream",
     "text": [
      "100%|██████████| 2/2 [00:00<00:00,  2.86it/s]\n"
     ]
    }
   ],
   "source": [
    "#9.2 Compare motif to peaks called by GEM and MACS2\n",
    "\n",
    "def get_type(x):\n",
    "    if len(x.split(','))>1:\n",
    "        return 0\n",
    "    elif 'MACS' in x:\n",
    "        return 1\n",
    "    elif 'GEM' in x:\n",
    "        return 2\n",
    "    else:\n",
    "        return -1\n",
    "    \n",
    "venn_set = {}\n",
    "for item in tqdm(Sub_sample_list):\n",
    "    if os.environ['control'] not in item:\n",
    "        os.environ['sample_ID'] = item\n",
    "        try:\n",
    "            !bedtools intersect -wo -a $file_path/GEM_BED/$sample_ID-fimo/fimo.bed -b $file_path/compare_bed/$sample_ID.MACS.bed \\\n",
    "            > $file_path/compare_bed/$sample_ID.MACS_peak.bed\n",
    "            !bedtools intersect -wo -a $file_path/GEM_BED/$sample_ID-fimo/fimo.bed -b $file_path/compare_bed/$sample_ID.GEM.bed \\\n",
    "            > $file_path/compare_bed/$sample_ID.GEM_peak.bed\n",
    "            !bedtools intersect -wo -a $file_path/compare_bed/$sample_ID.MACS.bed -b $file_path/compare_bed/$sample_ID.GEM.bed \\\n",
    "            > $file_path/compare_bed/$sample_ID.compare_peak.bed\n",
    "            !bedtools intersect -wo -a $file_path/GEM_BED/$sample_ID-fimo/fimo.bed -b $file_path/compare_bed/$sample_ID.MACS.bed $file_path/compare_bed/$sample_ID.GEM.bed \\\n",
    "            > $file_path/compare_bed/$sample_ID.nohit_peak.bed\n",
    "\n",
    "            df_MACS = pd.read_table(os.environ['file_path']+'/compare_bed/'+os.environ['sample_ID']+'.MACS.bed',header = None)\n",
    "            df_GEM = pd.read_table(os.environ['file_path']+'/compare_bed/'+os.environ['sample_ID']+'.GEM.bed',header = None)\n",
    "            df_Motif = pd.read_table(os.environ['file_path']+'/GEM_BED/'+os.environ['sample_ID']+'-fimo/fimo.bed',header = None) \n",
    "\n",
    "            df_compare_MACS_peak = pd.read_table(os.environ['file_path']+'/compare_bed/'+os.environ['sample_ID']+'.MACS_peak.bed',header = None)\n",
    "            df_compare_GEM_peak = pd.read_table(os.environ['file_path']+'/compare_bed/'+os.environ['sample_ID']+'.GEM_peak.bed',header = None)\n",
    "            df_compare = pd.read_table(os.environ['file_path']+'/compare_bed/'+os.environ['sample_ID']+'.compare_peak.bed',header = None)\n",
    "\n",
    "            # compare all three \n",
    "            df_compare_motif = pd.read_table(os.environ['file_path']+'/compare_bed/'+os.environ['sample_ID']+'.nohit_peak.bed',header = None)\n",
    "\n",
    "            df_summary = pd.DataFrame(df_compare_motif.groupby(3)[14].apply(lambda x: \"%s\" % ', '.join(x)))\n",
    "            df_summary.columns=['hit']\n",
    "            df_summary.index.name = 'peak'\n",
    "            df_summary['type'] = df_summary['hit'].apply(lambda x:get_type(x))\n",
    "\n",
    "\n",
    "            # Unique to MACS\n",
    "            MACS_only = len(df_MACS)-len(df_compare)-len(df_compare_MACS_peak)+len(df_summary[df_summary['type'] == 0])\n",
    "            # Unique to GEM\n",
    "            GEM_only = len(df_GEM)-len(df_compare)-len(df_compare_GEM_peak)+len(df_summary[df_summary['type'] == 0])\n",
    "            # Unique to MOTIF\n",
    "            MOTIF_only = len(df_Motif) - len(df_compare_MACS_peak) - len(df_compare_GEM_peak) + len(df_summary[df_summary['type'] == 0])\n",
    "\n",
    "            # GEM overlap MACS only\n",
    "            GEM_MACS_only = len(df_compare) - len(df_summary[df_summary['type'] == 0])\n",
    "            # MACS overlap MOTIF only\n",
    "            MACS_MOTIF_only = len(df_summary[df_summary['type'] == 1])\n",
    "            # GEM overlap MOTIF only\n",
    "            GEM_MOTIF_only = len(df_summary[df_summary['type'] == 2])\n",
    "\n",
    "            # All overlap\n",
    "            All_overlay = len(df_summary[df_summary['type'] == 0])   \n",
    "\n",
    "            venn_set[item] = [MACS_only, GEM_only, GEM_MACS_only, MOTIF_only,MACS_MOTIF_only,GEM_MOTIF_only,All_overlay]\n",
    "        except:\n",
    "            continue"
   ]
  },
  {
   "cell_type": "code",
   "execution_count": 55,
   "metadata": {},
   "outputs": [
    {
     "data": {
      "image/png": "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\n",
      "text/plain": [
       "<Figure size 1728x576 with 8 Axes>"
      ]
     },
     "metadata": {},
     "output_type": "display_data"
    }
   ],
   "source": [
    "#10 Visulize the final results\n",
    "\n",
    "f,ax = plt.subplots(2*int(len(venn_set)/4)+2,4,figsize = (24,max(8,len(venn_set)*2)))\n",
    "ax = ax.ravel()\n",
    "[axi.set_axis_off() for axi in ax.ravel()]  \n",
    "for ix,sets in enumerate(venn_set):\n",
    "    ax[2*ix+1].set_title(str(sets))\n",
    "    venn3(subsets = (venn_set[sets]),set_labels = ('MACS', 'GEM', 'Motif'),ax = ax[2*ix+1],)\n",
    "    ax[2*ix].set_title(str(sets))\n",
    "    img = mpimg.imread(os.environ['file_path']+'/GEM_BED/'+sets+'-meme/logo1.png')\n",
    "    ax[2*ix].imshow(img);\n",
    "\n"
   ]
  },
  {
   "cell_type": "code",
   "execution_count": 58,
   "metadata": {},
   "outputs": [],
   "source": [
    "#10 Save all useful output files\n",
    "\n",
    "!rm $project_ID.zip\n",
    "!zip -r -q -J -D $project_ID.zip $file_path/GEM_BED/*-fimo/fimo.gff $file_path/bigWig/"
   ]
  },
  {
   "cell_type": "code",
   "execution_count": null,
   "metadata": {},
   "outputs": [],
   "source": []
  }
 ],
 "metadata": {
  "kernelspec": {
   "display_name": "Python 3",
   "language": "python",
   "name": "python3"
  },
  "language_info": {
   "codemirror_mode": {
    "name": "ipython",
    "version": 3
   },
   "file_extension": ".py",
   "mimetype": "text/x-python",
   "name": "python",
   "nbconvert_exporter": "python",
   "pygments_lexer": "ipython3",
   "version": "3.5.4"
  }
 },
 "nbformat": 4,
 "nbformat_minor": 2
}
